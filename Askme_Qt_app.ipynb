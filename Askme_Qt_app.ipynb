{
 "cells": [
  {
   "cell_type": "code",
   "execution_count": 4,
   "metadata": {},
   "outputs": [],
   "source": [
    "from PyQt5 import QtCore, QtGui, QtWidgets\n",
    "from PyQt5 import Qt\n",
    "import qdarkstyle\n",
    "import pandas as pd\n",
    "import pickle\n",
    "from context import context\n",
    "import numpy as np\n",
    "from PyQt5.QtWidgets import * \n",
    "from PyQt5.QtGui import * \n",
    "from PyQt5.QtCore import * "
   ]
  },
  {
   "cell_type": "code",
   "execution_count": 5,
   "metadata": {},
   "outputs": [],
   "source": [
    "predict1 = pickle.load(open('model.pkl', 'rb'))"
   ]
  },
  {
   "cell_type": "code",
   "execution_count": 6,
   "metadata": {},
   "outputs": [
    {
     "ename": "SystemExit",
     "evalue": "0",
     "output_type": "error",
     "traceback": [
      "An exception has occurred, use %tb to see the full traceback.\n",
      "\u001b[1;31mSystemExit\u001b[0m\u001b[1;31m:\u001b[0m 0\n"
     ]
    },
    {
     "name": "stderr",
     "output_type": "stream",
     "text": [
      "C:\\Users\\91968\\anaconda3\\lib\\site-packages\\IPython\\core\\interactiveshell.py:3426: UserWarning: To exit: use 'exit', 'quit', or Ctrl-D.\n",
      "  warn(\"To exit: use 'exit', 'quit', or Ctrl-D.\", stacklevel=1)\n"
     ]
    }
   ],
   "source": [
    "class Ui_MainWindow(object):\n",
    "    def setupUi(self, MainWindow):\n",
    "        MainWindow.setObjectName(\"MainWindow\")\n",
    "        MainWindow.resize(800, 600)\n",
    "        self.centralwidget = QtWidgets.QWidget(MainWindow)\n",
    "        self.centralwidget.setObjectName(\"centralwidget\")\n",
    "        self.textBrowser = QtWidgets.QTextBrowser(self.centralwidget)\n",
    "        self.textBrowser.setGeometry(QtCore.QRect(10, 170, 400, 361))\n",
    "        self.textBrowser.setFont(QFont('Times', 12)) \n",
    "        self.textBrowser.setObjectName(\"textBrowser\")\n",
    "        \n",
    "        self.textBrowser1 = QtWidgets.QTextBrowser(self.centralwidget)\n",
    "        self.textBrowser1.setGeometry(QtCore.QRect(400, 170, 761, 361))\n",
    "        self.textBrowser1.setFont(QFont('Times', 12)) \n",
    "        self.textBrowser1.setObjectName(\"textBrowser\")\n",
    "        \n",
    "        self.label_2 = QtWidgets.QLabel(self.centralwidget)\n",
    "        self.label_2.setGeometry(QtCore.QRect(400, 135, 211, 31))\n",
    "        self.label_2.setObjectName(\"label_2\")\n",
    "        self.widget = QtWidgets.QWidget(self.centralwidget)\n",
    "        self.widget.setGeometry(QtCore.QRect(10, 20, 761, 81))\n",
    "        self.widget.setObjectName(\"widget\")\n",
    "        self.horizontalLayout = QtWidgets.QHBoxLayout(self.widget)\n",
    "        self.horizontalLayout.setContentsMargins(0, 0, 0, 0)\n",
    "        self.horizontalLayout.setObjectName(\"horizontalLayout\")\n",
    "        self.label = QtWidgets.QLabel(self.widget)\n",
    "        self.label.setObjectName(\"label\")\n",
    "        self.horizontalLayout.addWidget(self.label)\n",
    "        self.lineEdit = QtWidgets.QLineEdit(self.widget)\n",
    "        self.lineEdit.setObjectName(\"lineEdit\")\n",
    "        self.horizontalLayout.addWidget(self.lineEdit)\n",
    "        self.pushButton = QtWidgets.QPushButton(self.widget)\n",
    "        font = QtGui.QFont()\n",
    "        font.setPointSize(10)\n",
    "        font.setBold(True)\n",
    "        font.setWeight(75)\n",
    "        self.pushButton.setFont(font)\n",
    "        self.pushButton.setMouseTracking(True)\n",
    "        self.pushButton.setIconSize(QtCore.QSize(21, 30))\n",
    "        self.pushButton.setObjectName(\"HitMe\")\n",
    "        \n",
    "        self.pushButton.clicked.connect(self.predict)\n",
    "        \n",
    "        self.horizontalLayout.addWidget(self.pushButton)\n",
    "        MainWindow.setCentralWidget(self.centralwidget)\n",
    "        self.menubar = QtWidgets.QMenuBar(MainWindow)\n",
    "        self.menubar.setGeometry(QtCore.QRect(0, 0, 800, 26))\n",
    "        self.menubar.setObjectName(\"menubar\")\n",
    "        self.menuAksMe = QtWidgets.QMenu(self.menubar)\n",
    "        self.menuAksMe.setObjectName(\"menuAksMe\")\n",
    "        MainWindow.setMenuBar(self.menubar)\n",
    "        self.statusbar = QtWidgets.QStatusBar(MainWindow)\n",
    "        self.statusbar.setObjectName(\"statusbar\")\n",
    "        MainWindow.setStatusBar(self.statusbar)\n",
    "        self.menubar.addAction(self.menuAksMe.menuAction())\n",
    "\n",
    "        self.retranslateUi(MainWindow)\n",
    "        QtCore.QMetaObject.connectSlotsByName(MainWindow)\n",
    "        \n",
    "      \n",
    "        \n",
    "    def predict(self):\n",
    "        v1= self.lineEdit.text()\n",
    "        \n",
    "        prediction=predict1(question=str(v1), context=context)['answer']\n",
    "        \n",
    "        #self.textBrowser.setFocusPolicy(Qt.NoFocus)\n",
    "        self.textBrowser.append(v1)\n",
    "        self.textBrowser.setStyleSheet(\"color: #DF8543;\")\n",
    "                                       \n",
    "                                        \n",
    "        self.textBrowser1.append(prediction)\n",
    "        self.textBrowser1.setStyleSheet(\"color: #8AA4F6;\")\n",
    "        \n",
    "\n",
    "    def retranslateUi(self, MainWindow):\n",
    "        _translate = QtCore.QCoreApplication.translate\n",
    "        MainWindow.setWindowTitle(_translate(\"MainWindow\", \"MainWindow\"))\n",
    "        self.label_2.setText(_translate(\"MainWindow\", \"<html><head/><body><p><span style=\\\" font-size:10pt; font-weight:600; color:#468c68;\\\">Here is your Answer </span></p></body></html>\"))\n",
    "        self.label.setText(_translate(\"MainWindow\", \"<html><head/><body><p><span style=\\\" font-size:12pt; font-weight:600; color:#8AA4F6;\\\">Ask Here </span></p></body></html>\"))\n",
    "        self.pushButton.setText(_translate(\"MainWindow\", \"HitMe\"))\n",
    "        self.menuAksMe.setTitle(_translate(\"MainWindow\", \"AksMe\"))\n",
    "\n",
    "\n",
    "if __name__ == \"__main__\":\n",
    "    import sys\n",
    "    app = QtWidgets.QApplication(sys.argv)\n",
    "    MainWindow = QtWidgets.QMainWindow()\n",
    "    ui = Ui_MainWindow()\n",
    "    ui.setupUi(MainWindow)\n",
    "    app.setStyleSheet(qdarkstyle.load_stylesheet())\n",
    "    MainWindow.show()\n",
    "    sys.exit(app.exec_())\n"
   ]
  }
 ],
 "metadata": {
  "kernelspec": {
   "display_name": "Python 3",
   "language": "python",
   "name": "python3"
  },
  "language_info": {
   "codemirror_mode": {
    "name": "ipython",
    "version": 3
   },
   "file_extension": ".py",
   "mimetype": "text/x-python",
   "name": "python",
   "nbconvert_exporter": "python",
   "pygments_lexer": "ipython3",
   "version": "3.8.5"
  }
 },
 "nbformat": 4,
 "nbformat_minor": 4
}
